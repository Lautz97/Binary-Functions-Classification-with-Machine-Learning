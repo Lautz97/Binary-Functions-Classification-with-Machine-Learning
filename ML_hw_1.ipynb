{
  "nbformat": 4,
  "nbformat_minor": 0,
  "metadata": {
    "colab": {
      "name": "ML hw 1.ipynb",
      "provenance": [],
      "collapsed_sections": [],
      "authorship_tag": "ABX9TyNxMByHtiQrsct9AeaBuIm4",
      "include_colab_link": true
    },
    "kernelspec": {
      "name": "python3",
      "display_name": "Python 3"
    }
  },
  "cells": [
    {
      "cell_type": "markdown",
      "metadata": {
        "id": "view-in-github",
        "colab_type": "text"
      },
      "source": [
        "<a href=\"https://colab.research.google.com/github/Lautz97/Binary-Functions-Classification-with-Machine-Learning/blob/main/ML_hw_1.ipynb\" target=\"_parent\"><img src=\"https://colab.research.google.com/assets/colab-badge.svg\" alt=\"Open In Colab\"/></a>"
      ]
    },
    {
      "cell_type": "markdown",
      "metadata": {
        "id": "d9uWRx9ISnIM"
      },
      "source": [
        "# Homework 1\n",
        "\n",
        "Binary Functions Classification\n",
        "\n",
        "Dataset 1: with duplicates\n",
        "https://drive.google.com/file/d/1vKT9OzJwM6gKACyElzECW49X5nFeVxad\n",
        "\n",
        "Dataset 2: without duplicates\n",
        "https://drive.google.com/file/d/1olYSZIqHbKQQh__l222cwDj33n3h-zAk\n"
      ]
    },
    {
      "cell_type": "markdown",
      "metadata": {
        "id": "Mz44NiB1lvzD"
      },
      "source": [
        "# Global imports."
      ]
    },
    {
      "cell_type": "code",
      "metadata": {
        "id": "q93jRnwdO5gF",
        "colab": {
          "base_uri": "https://localhost:8080/"
        },
        "outputId": "125a1b02-0e68-4927-8e83-f8234d7174aa"
      },
      "source": [
        "!pip install ipython-autotime\n",
        "\n",
        "%load_ext autotime\n",
        "\n",
        "from google.colab import files\n",
        "import json\n",
        "import pandas as pd\n",
        "import numpy as np\n",
        "import matplotlib.pyplot as plt\n",
        "\n",
        "import networkx as nx\n",
        "from networkx import json_graph\n",
        "\n",
        "import re\n",
        "\n",
        "from sklearn.feature_extraction.text import *\n",
        "from sklearn.model_selection import train_test_split\n",
        "\n",
        "from wordcloud import WordCloud\n",
        "\n",
        "from sklearn.naive_bayes import *\n",
        "from sklearn.metrics import *\n",
        "from sklearn.linear_model import LogisticRegression\n",
        "\n",
        "\n",
        "print(\"importing libraries.......done\")"
      ],
      "execution_count": 108,
      "outputs": [
        {
          "output_type": "stream",
          "text": [
            "Requirement already satisfied: ipython-autotime in /usr/local/lib/python3.6/dist-packages (0.2.0)\n",
            "Requirement already satisfied: ipython in /usr/local/lib/python3.6/dist-packages (from ipython-autotime) (5.5.0)\n",
            "Requirement already satisfied: setuptools>=18.5 in /usr/local/lib/python3.6/dist-packages (from ipython->ipython-autotime) (50.3.2)\n",
            "Requirement already satisfied: prompt-toolkit<2.0.0,>=1.0.4 in /usr/local/lib/python3.6/dist-packages (from ipython->ipython-autotime) (1.0.18)\n",
            "Requirement already satisfied: pygments in /usr/local/lib/python3.6/dist-packages (from ipython->ipython-autotime) (2.6.1)\n",
            "Requirement already satisfied: simplegeneric>0.8 in /usr/local/lib/python3.6/dist-packages (from ipython->ipython-autotime) (0.8.1)\n",
            "Requirement already satisfied: pickleshare in /usr/local/lib/python3.6/dist-packages (from ipython->ipython-autotime) (0.7.5)\n",
            "Requirement already satisfied: pexpect; sys_platform != \"win32\" in /usr/local/lib/python3.6/dist-packages (from ipython->ipython-autotime) (4.8.0)\n",
            "Requirement already satisfied: decorator in /usr/local/lib/python3.6/dist-packages (from ipython->ipython-autotime) (4.4.2)\n",
            "Requirement already satisfied: traitlets>=4.2 in /usr/local/lib/python3.6/dist-packages (from ipython->ipython-autotime) (4.3.3)\n",
            "Requirement already satisfied: six>=1.9.0 in /usr/local/lib/python3.6/dist-packages (from prompt-toolkit<2.0.0,>=1.0.4->ipython->ipython-autotime) (1.15.0)\n",
            "Requirement already satisfied: wcwidth in /usr/local/lib/python3.6/dist-packages (from prompt-toolkit<2.0.0,>=1.0.4->ipython->ipython-autotime) (0.2.5)\n",
            "Requirement already satisfied: ptyprocess>=0.5 in /usr/local/lib/python3.6/dist-packages (from pexpect; sys_platform != \"win32\"->ipython->ipython-autotime) (0.6.0)\n",
            "Requirement already satisfied: ipython-genutils in /usr/local/lib/python3.6/dist-packages (from traitlets>=4.2->ipython->ipython-autotime) (0.2.0)\n",
            "The autotime extension is already loaded. To reload it, use:\n",
            "  %reload_ext autotime\n",
            "importing libraries.......done\n",
            "time: 2.59 s\n"
          ],
          "name": "stdout"
        }
      ]
    },
    {
      "cell_type": "code",
      "metadata": {
        "colab": {
          "base_uri": "https://localhost:8080/"
        },
        "cellView": "form",
        "id": "z-c3Quk2LTCz",
        "outputId": "5851b9ba-70d4-454d-9d09-6f3f0ff9100a"
      },
      "source": [
        "#@title Variable settings { run: \"auto\" }\n",
        "#@markdown To customize:\n",
        "\n",
        "#@markdown ###   Paths\n",
        "\n",
        "# True or False\n",
        "use_drive=True #@param {type:\"boolean\"}\n",
        "\n",
        "# in case of retrieving data from g_drive the drive will be mounted\n",
        "# specify where here\n",
        "drive_mount_path = \"/content/drive\" #@param {type:\"string\"} \n",
        "  \n",
        "# now specify the directory of dataset and blindset\n",
        "# in this directory will be also stored a \n",
        "# json file with the blindtest predictions\n",
        "datadir = \"/content/drive/My Drive/MLHW1\" #@param {type:\"string\"}\n",
        "\n",
        "# or you can simply upload file by file by setting use_drive to False\n",
        "\n",
        "#@markdown ### File names\n",
        "\n",
        "# specify now file names\n",
        "dataset = \"dataset.json\" #@param {type:\"string\"}\n",
        "blindset = \"blindtest.json\" #@param {type:\"string\"}\n",
        "prediction = \"predictions.json\" #@param {type:\"string\"}\n",
        "\n",
        "#@markdown ### Vectorizer\n",
        "\n",
        "# specify here what vectorizer to use\n",
        "# \"hash\", \"count\" or \"tfid\"\n",
        "vectorizer_type = \"hash\" #@param [\"hash\", \"count\", \"tfid\"]{type:\"string\"}\n",
        "\n",
        "#@markdown ### Model\n",
        "\n",
        "# \"logreg\", \"bernoulli\" or \"multinomial\"\n",
        "model_type = \"logreg\" #@param [\"logreg\", \"bernoulli\", \"multinomial\"]{type:\"string\"}\n",
        "\n",
        "print(\"done!\")"
      ],
      "execution_count": 109,
      "outputs": [
        {
          "output_type": "stream",
          "text": [
            "done!\n",
            "time: 8.51 ms\n"
          ],
          "name": "stdout"
        }
      ]
    },
    {
      "cell_type": "markdown",
      "metadata": {
        "id": "uVGVQ3iL8e1m"
      },
      "source": [
        "# Dataset Selection\n",
        "\n",
        "Upload dataset from file system, or take it from gdrive."
      ]
    },
    {
      "cell_type": "code",
      "metadata": {
        "id": "wgqDSjwq8mA6",
        "colab": {
          "base_uri": "https://localhost:8080/"
        },
        "outputId": "e098ee21-498b-4093-fd0f-e66b2e15897d"
      },
      "source": [
        "if(use_drive):\n",
        "  from google.colab import drive\n",
        "  drive.mount(drive_mount_path, True)\n",
        "  dataset = datadir + \"/\" + dataset\n",
        "else:\n",
        "  uploaded = files.upload()\n",
        "  datadir = \"\"\n",
        "\n",
        "\n",
        "print(dataset)"
      ],
      "execution_count": 110,
      "outputs": [
        {
          "output_type": "stream",
          "text": [
            "Mounted at /content/drive\n",
            "/content/drive/My Drive/MLHW1/dataset.json\n",
            "time: 1.12 s\n"
          ],
          "name": "stdout"
        }
      ]
    },
    {
      "cell_type": "markdown",
      "metadata": {
        "id": "4eZYylP0oiWd"
      },
      "source": [
        "# Read Dataset\n",
        "Using pandas to handle the data reading and presenting them.\n"
      ]
    },
    {
      "cell_type": "code",
      "metadata": {
        "id": "fbxqpJGesN0T",
        "colab": {
          "base_uri": "https://localhost:8080/",
          "height": 242
        },
        "outputId": "4f1d5cf8-f879-4011-b13a-10ebaa3ab3d5"
      },
      "source": [
        "data = pd.read_json(dataset, lines=True)\n",
        "\n",
        "print(data.shape)\n",
        "data.head()"
      ],
      "execution_count": 111,
      "outputs": [
        {
          "output_type": "stream",
          "text": [
            "(6073, 4)\n"
          ],
          "name": "stdout"
        },
        {
          "output_type": "execute_result",
          "data": {
            "text/html": [
              "<div>\n",
              "<style scoped>\n",
              "    .dataframe tbody tr th:only-of-type {\n",
              "        vertical-align: middle;\n",
              "    }\n",
              "\n",
              "    .dataframe tbody tr th {\n",
              "        vertical-align: top;\n",
              "    }\n",
              "\n",
              "    .dataframe thead th {\n",
              "        text-align: right;\n",
              "    }\n",
              "</style>\n",
              "<table border=\"1\" class=\"dataframe\">\n",
              "  <thead>\n",
              "    <tr style=\"text-align: right;\">\n",
              "      <th></th>\n",
              "      <th>id</th>\n",
              "      <th>semantic</th>\n",
              "      <th>lista_asm</th>\n",
              "      <th>cfg</th>\n",
              "    </tr>\n",
              "  </thead>\n",
              "  <tbody>\n",
              "    <tr>\n",
              "      <th>0</th>\n",
              "      <td>828</td>\n",
              "      <td>string</td>\n",
              "      <td>['jmp qword ptr [rip + 0x220882]', 'jmp qword ...</td>\n",
              "      <td>{'directed': True, 'graph': [], 'nodes': [{'id...</td>\n",
              "    </tr>\n",
              "    <tr>\n",
              "      <th>1</th>\n",
              "      <td>11786</td>\n",
              "      <td>math</td>\n",
              "      <td>['ucomisd xmm2, xmm2', 'jp 0x40', 'ucomisd xmm...</td>\n",
              "      <td>{'directed': True, 'graph': [], 'nodes': [{'id...</td>\n",
              "    </tr>\n",
              "    <tr>\n",
              "      <th>2</th>\n",
              "      <td>12621</td>\n",
              "      <td>encryption</td>\n",
              "      <td>['push rbx', 'mov r8d, ecx', 'mov qword ptr [r...</td>\n",
              "      <td>{'directed': True, 'graph': [], 'nodes': [{'id...</td>\n",
              "    </tr>\n",
              "    <tr>\n",
              "      <th>3</th>\n",
              "      <td>11166</td>\n",
              "      <td>math</td>\n",
              "      <td>['mov qword ptr [rsp - 0x10], rbx', 'mov qword...</td>\n",
              "      <td>{'directed': True, 'graph': [], 'nodes': [{'id...</td>\n",
              "    </tr>\n",
              "    <tr>\n",
              "      <th>4</th>\n",
              "      <td>10432</td>\n",
              "      <td>sort</td>\n",
              "      <td>['jmp qword ptr [rip + 0x200ba2]', 'jmp qword ...</td>\n",
              "      <td>{'directed': True, 'graph': [], 'nodes': [{'id...</td>\n",
              "    </tr>\n",
              "  </tbody>\n",
              "</table>\n",
              "</div>"
            ],
            "text/plain": [
              "      id  ...                                                cfg\n",
              "0    828  ...  {'directed': True, 'graph': [], 'nodes': [{'id...\n",
              "1  11786  ...  {'directed': True, 'graph': [], 'nodes': [{'id...\n",
              "2  12621  ...  {'directed': True, 'graph': [], 'nodes': [{'id...\n",
              "3  11166  ...  {'directed': True, 'graph': [], 'nodes': [{'id...\n",
              "4  10432  ...  {'directed': True, 'graph': [], 'nodes': [{'id...\n",
              "\n",
              "[5 rows x 4 columns]"
            ]
          },
          "metadata": {
            "tags": []
          },
          "execution_count": 111
        },
        {
          "output_type": "stream",
          "text": [
            "time: 1.48 s\n"
          ],
          "name": "stdout"
        }
      ]
    },
    {
      "cell_type": "markdown",
      "metadata": {
        "id": "llpdRJKhuF7L"
      },
      "source": [
        "# Understanding the dataset\n",
        "\n",
        "Extracting the population's proportions of the dataset and the length of each lista_asm that can be a valuable parameter, as long as extra informations about the control flow graph.\n",
        "\n",
        "To dig into the cfg is used the \"networkx\" library."
      ]
    },
    {
      "cell_type": "code",
      "metadata": {
        "id": "-8W1Ppq_uGFz",
        "colab": {
          "base_uri": "https://localhost:8080/",
          "height": 488
        },
        "outputId": "19f740c1-97e6-423c-c6ca-beeb50d4f264"
      },
      "source": [
        "fig = plt.figure()\n",
        "ax = fig.add_subplot(111)\n",
        "\n",
        "data['semantic'].value_counts().plot(kind='bar', color = '#1fb46c', alpha=0.75, grid=True)\n",
        "\n",
        "plt.ylabel('counts')\n",
        "plt.title('semantic types count')\n",
        "plt.xticks(rotation='horizontal')\n",
        "ax.xaxis.grid(which=\"major\")\n",
        "\n",
        "ax.spines['top'].set_visible(False)\n",
        "ax.spines['right'].set_visible(False)\n",
        "\n",
        "for p in ax.patches:\n",
        "    ax.annotate(np.round(p.get_height(),decimals=2), (p.get_x()+p.get_width()/2., p.get_height()+50), ha='center', va='center')\n",
        "\n",
        "# add a column for the total length of the asm list\n",
        "data['asm_len'] = data.lista_asm.apply(len)\n",
        "\n",
        "def asm_stringlist2vector(asm):\n",
        "  v_asm = eval(asm)\n",
        "  return v_asm\n",
        "\n",
        "def process_networkx(itm):\n",
        "  return json_graph.adjacency_graph(itm) \n",
        "\n",
        "def complexity(G):\n",
        "    edges = len(G.edges())\n",
        "    nodes = len(G.nodes())\n",
        "    parts = nx.components.number_strongly_connected_components(G)\n",
        "    return edges - nodes + parts\n",
        "\n",
        "data['cfg_nx'] = data.cfg.apply(process_networkx)\n",
        "# print(nx.info(data['cfg_nx'][0]))\n",
        "\n",
        "data['n_nodes'] = data.cfg_nx.apply(lambda g: len(g.nodes()))\n",
        "data['n_edges'] = data.cfg_nx.apply(lambda g: len(g.edges()))\n",
        "# from https://gist.github.com/ivg/e035b84edcaab70526c633cb3749b0e9\n",
        "data['g_complexity'] = data.cfg_nx.apply(complexity)\n",
        "\n",
        "data = data.drop(columns=['cfg_nx'])\n",
        "\n",
        "# view new data set\n",
        "# print(data.shape)\n",
        "data.head()"
      ],
      "execution_count": 112,
      "outputs": [
        {
          "output_type": "execute_result",
          "data": {
            "text/html": [
              "<div>\n",
              "<style scoped>\n",
              "    .dataframe tbody tr th:only-of-type {\n",
              "        vertical-align: middle;\n",
              "    }\n",
              "\n",
              "    .dataframe tbody tr th {\n",
              "        vertical-align: top;\n",
              "    }\n",
              "\n",
              "    .dataframe thead th {\n",
              "        text-align: right;\n",
              "    }\n",
              "</style>\n",
              "<table border=\"1\" class=\"dataframe\">\n",
              "  <thead>\n",
              "    <tr style=\"text-align: right;\">\n",
              "      <th></th>\n",
              "      <th>id</th>\n",
              "      <th>semantic</th>\n",
              "      <th>lista_asm</th>\n",
              "      <th>cfg</th>\n",
              "      <th>asm_len</th>\n",
              "      <th>n_nodes</th>\n",
              "      <th>n_edges</th>\n",
              "      <th>g_complexity</th>\n",
              "    </tr>\n",
              "  </thead>\n",
              "  <tbody>\n",
              "    <tr>\n",
              "      <th>0</th>\n",
              "      <td>828</td>\n",
              "      <td>string</td>\n",
              "      <td>['jmp qword ptr [rip + 0x220882]', 'jmp qword ...</td>\n",
              "      <td>{'directed': True, 'graph': [], 'nodes': [{'id...</td>\n",
              "      <td>2380</td>\n",
              "      <td>23</td>\n",
              "      <td>30</td>\n",
              "      <td>30</td>\n",
              "    </tr>\n",
              "    <tr>\n",
              "      <th>1</th>\n",
              "      <td>11786</td>\n",
              "      <td>math</td>\n",
              "      <td>['ucomisd xmm2, xmm2', 'jp 0x40', 'ucomisd xmm...</td>\n",
              "      <td>{'directed': True, 'graph': [], 'nodes': [{'id...</td>\n",
              "      <td>819</td>\n",
              "      <td>15</td>\n",
              "      <td>20</td>\n",
              "      <td>20</td>\n",
              "    </tr>\n",
              "    <tr>\n",
              "      <th>2</th>\n",
              "      <td>12621</td>\n",
              "      <td>encryption</td>\n",
              "      <td>['push rbx', 'mov r8d, ecx', 'mov qword ptr [r...</td>\n",
              "      <td>{'directed': True, 'graph': [], 'nodes': [{'id...</td>\n",
              "      <td>10231</td>\n",
              "      <td>18</td>\n",
              "      <td>33</td>\n",
              "      <td>24</td>\n",
              "    </tr>\n",
              "    <tr>\n",
              "      <th>3</th>\n",
              "      <td>11166</td>\n",
              "      <td>math</td>\n",
              "      <td>['mov qword ptr [rsp - 0x10], rbx', 'mov qword...</td>\n",
              "      <td>{'directed': True, 'graph': [], 'nodes': [{'id...</td>\n",
              "      <td>272</td>\n",
              "      <td>2</td>\n",
              "      <td>1</td>\n",
              "      <td>1</td>\n",
              "    </tr>\n",
              "    <tr>\n",
              "      <th>4</th>\n",
              "      <td>10432</td>\n",
              "      <td>sort</td>\n",
              "      <td>['jmp qword ptr [rip + 0x200ba2]', 'jmp qword ...</td>\n",
              "      <td>{'directed': True, 'graph': [], 'nodes': [{'id...</td>\n",
              "      <td>1597</td>\n",
              "      <td>22</td>\n",
              "      <td>35</td>\n",
              "      <td>29</td>\n",
              "    </tr>\n",
              "  </tbody>\n",
              "</table>\n",
              "</div>"
            ],
            "text/plain": [
              "      id    semantic  ... n_edges g_complexity\n",
              "0    828      string  ...      30           30\n",
              "1  11786        math  ...      20           20\n",
              "2  12621  encryption  ...      33           24\n",
              "3  11166        math  ...       1            1\n",
              "4  10432        sort  ...      35           29\n",
              "\n",
              "[5 rows x 8 columns]"
            ]
          },
          "metadata": {
            "tags": []
          },
          "execution_count": 112
        },
        {
          "output_type": "display_data",
          "data": {
            "image/png": "[encoded data removed]",
            "text/plain": [
              "<Figure size 432x288 with 1 Axes>"
            ]
          },
          "metadata": {
            "tags": [],
            "needs_background": "light"
          }
        },
        {
          "output_type": "stream",
          "text": [
            "time: 3.03 s\n"
          ],
          "name": "stdout"
        }
      ]
    },
    {
      "cell_type": "markdown",
      "metadata": {
        "id": "pIAMEBXBiJaR"
      },
      "source": [
        "# Bag of word features extraction.\n"
      ]
    },
    {
      "cell_type": "code",
      "metadata": {
        "id": "WhFI41G7xq7d",
        "colab": {
          "base_uri": "https://localhost:8080/"
        },
        "outputId": "6f5b9b5b-5b55-464f-e36d-f4675c2b7d2c"
      },
      "source": [
        "if vectorizer_type == \"hash\":\n",
        "  # many features would lower the accuracy\n",
        "  vectorizer = HashingVectorizer(n_features=10000,norm=None,alternate_sign=False)\n",
        "elif vectorizer_type == \"count\":\n",
        "  vectorizer = CountVectorizer(binary=True) \n",
        "elif vectorizer_type == \"tfid\":\n",
        "  vectorizer = TfidfVectorizer()\n",
        "\n",
        "# tokenization and vocaboulary building\n",
        "v = vectorizer.fit(data[\"lista_asm\"])\n",
        "\n",
        "#cool visualization if vectorizer_type == count\n",
        "if(vectorizer_type==\"tfid\" or vectorizer_type==\"count\"):\n",
        "  # print the count of different words contained in asm list\n",
        "  print ('number of features: {}'.format(len(v.vocabulary_)))\n",
        "  # visualize the result\n",
        "  wordcloud = WordCloud(width = 1000, height = 500).generate(' '.join(v.vocabulary_))\n",
        "  plt.figure(figsize=(15,8))\n",
        "  plt.imshow(wordcloud)\n",
        "  plt.show()\n",
        "\n",
        "# sparse matrix encoding, resulting in one vector of word counts for each document.\n",
        "asm_list_vectorized = v.transform(data['lista_asm'])\n",
        "print(\"transformed feature vector's shape = \", asm_list_vectorized.get_shape())"
      ],
      "execution_count": 113,
      "outputs": [
        {
          "output_type": "stream",
          "text": [
            "transformed feature vector's shape =  (6073, 10000)\n",
            "time: 2.62 s\n"
          ],
          "name": "stdout"
        }
      ]
    },
    {
      "cell_type": "markdown",
      "metadata": {
        "id": "PXudu04Pbuhh"
      },
      "source": [
        "# Data splitting\n"
      ]
    },
    {
      "cell_type": "code",
      "metadata": {
        "colab": {
          "base_uri": "https://localhost:8080/"
        },
        "id": "chOUxoWbbxZj",
        "outputId": "7c43c9f9-8c28-4bbb-85d0-d59f98eecf91"
      },
      "source": [
        "X_train, X_test, Y_train, Y_test = train_test_split(asm_list_vectorized.toarray(), data['semantic'], test_size=0.2, random_state=15)\n",
        "\n",
        "print(\"Training set length: %d \\nTesting set length: %d\" %(X_train.shape[0],X_test.shape[0]))"
      ],
      "execution_count": 114,
      "outputs": [
        {
          "output_type": "stream",
          "text": [
            "Training set length: 4858 \n",
            "Testing set length: 1215\n",
            "time: 254 ms\n"
          ],
          "name": "stdout"
        }
      ]
    },
    {
      "cell_type": "markdown",
      "metadata": {
        "id": "BD-RK6fJe2O_"
      },
      "source": [
        "# Training model!\n"
      ]
    },
    {
      "cell_type": "code",
      "metadata": {
        "colab": {
          "base_uri": "https://localhost:8080/"
        },
        "id": "3oMMQffUe9nH",
        "outputId": "a199b567-7d75-47fb-eac5-18dddfde5fda"
      },
      "source": [
        "if model_type == \"bernoulli\":\n",
        "  model = BernoulliNB().fit(X_train, Y_train)\n",
        "  print('Bernoulli Model created')\n",
        "elif model_type == \"multinomial\":\n",
        "  model = MultinomialNB().fit(X_train, Y_train)\n",
        "  print('Multinomial Model created')\n",
        "elif model_type == \"logreg\":\n",
        "  scikit_log_reg = LogisticRegression(solver='liblinear',random_state=0, C=5, penalty='l2',max_iter=1000)\n",
        "  model=scikit_log_reg.fit(X_train,Y_train)\n",
        "  print('Logistic Regression Model created')"
      ],
      "execution_count": 115,
      "outputs": [
        {
          "output_type": "stream",
          "text": [
            "Logistic Regression Model created\n",
            "time: 4.12 s\n"
          ],
          "name": "stdout"
        }
      ]
    },
    {
      "cell_type": "markdown",
      "metadata": {
        "id": "i88Qug4Egyg1"
      },
      "source": [
        "# Testing the trained model\n",
        "\n"
      ]
    },
    {
      "cell_type": "code",
      "metadata": {
        "colab": {
          "base_uri": "https://localhost:8080/",
          "height": 513
        },
        "id": "KZFuUpcdg2Bi",
        "outputId": "641b4628-2a31-445b-839e-43c28137316d"
      },
      "source": [
        "Y_pred = model.predict(X_test)\n",
        "\n",
        "from sklearn.metrics import plot_confusion_matrix\n",
        "# Plot non-normalized confusion matrix\n",
        "titles_options = [(\"Normalized confusion matrix\", 'true')]\n",
        "for title, normalize in titles_options:\n",
        "    disp = plot_confusion_matrix(model, X_test, Y_test,\n",
        "                                 cmap=plt.cm.Greens,\n",
        "                                 normalize=normalize)\n",
        "    disp.ax_.set_title(title)\n",
        "\n",
        "    # print(title)\n",
        "    # print(disp.confusion_matrix)\n",
        "\n",
        "plt.show()\n",
        "\n",
        "\n",
        "\n",
        "# print(confusion_matrix(Y_test, Y_pred))\n",
        "print(classification_report(Y_test, Y_pred))\n"
      ],
      "execution_count": 116,
      "outputs": [
        {
          "output_type": "display_data",
          "data": {
            "image/png": "[encoded data removed]",
            "text/plain": [
              "<Figure size 432x288 with 2 Axes>"
            ]
          },
          "metadata": {
            "tags": [],
            "needs_background": "light"
          }
        },
        {
          "output_type": "stream",
          "text": [
            "              precision    recall  f1-score   support\n",
            "\n",
            "  encryption       0.98      0.98      0.98       256\n",
            "        math       1.00      1.00      1.00       456\n",
            "        sort       0.97      0.96      0.96       112\n",
            "      string       0.99      0.99      0.99       391\n",
            "\n",
            "    accuracy                           0.99      1215\n",
            "   macro avg       0.98      0.98      0.98      1215\n",
            "weighted avg       0.99      0.99      0.99      1215\n",
            "\n",
            "time: 549 ms\n"
          ],
          "name": "stdout"
        }
      ]
    },
    {
      "cell_type": "markdown",
      "metadata": {
        "id": "Xn0FmTmvPHQw"
      },
      "source": [
        "# Predicting what's in the blind set\n",
        "\n"
      ]
    },
    {
      "cell_type": "code",
      "metadata": {
        "colab": {
          "base_uri": "https://localhost:8080/"
        },
        "id": "yC9sPbwMPbeM",
        "outputId": "6f9a43c6-cc58-4b62-c9e1-a0bb11c4783e"
      },
      "source": [
        "if(use_drive):\n",
        "  blinddir = datadir\n",
        "  blindset_p = blinddir + \"/\" + blindset\n",
        "else:\n",
        "  uploaded = files.upload()\n",
        "  blinddir = \"\"\n",
        "\n",
        "print(\"blindset file found in: \", blindset_p)\n",
        "\n",
        "blind = pd.read_json(blindset_p, lines=True)\n",
        "\n",
        "print(\"blind test shape = \", blind.shape)\n",
        "\n",
        "# already done before tokenization and vocaboulary building\n",
        "# this action would cancel the vocabulary\n",
        "# vb = vectorizer.fit(blind[\"lista_asm\"])\n",
        "\n",
        "# sparse matrix encoding, resulting in one vector of word counts for each document.\n",
        "blind_list_vectorized = v.transform(blind['lista_asm'])\n",
        "print(\"transformed feature vector's shape = \", blind_list_vectorized.get_shape())\n",
        "\n",
        "\n",
        "Y_pred = model.predict(blind_list_vectorized.toarray())\n",
        "# print(confusion_matrix(Y_test, Y_pred))\n",
        "# print(classification_report(Y_test, Y_pred))\n",
        "\n",
        "print(\"prediction model used: \" + model_type)\n",
        "\n",
        "pred_path = datadir + \"/\" + prediction\n",
        "Y_pred_list = Y_pred.tolist()\n",
        "if(use_drive):\n",
        "  with open(pred_path, \"w\") as outfile:\n",
        "      json.dump(Y_pred_list, outfile)\n",
        "  print(\"prediction of blindset's functions semantic can be found in: \" + datadir + \"/\" + prediction)\n",
        "else:\n",
        "  question = \"do you want me to print here the result of the prediction? will be a \" + str(len(Y_pred_list)) + \" item list [y/n]  \"\n",
        "  answ = input(question)\n",
        "  if(answ==\"n\"):\n",
        "    answ = input(\"do you want to print the list on a json file? [y/n]  \")\n",
        "    if(answ==\"y\"):\n",
        "      path = input(\"specify the local path: \")\n",
        "      with open(path + \"/\" + prediction, \"w\") as outfile:\n",
        "        json.dump(Y_pred_list, outfile)\n",
        "      print(\"prediction of blindset's functions semantic can be found in: \" + path + \"/\" + prediction)\n",
        "  else:\n",
        "    print(\"Printing list of predisctions: \\n\")\n",
        "    print(Y_pred_list)\n",
        "print(\"done!\")"
      ],
      "execution_count": 118,
      "outputs": [
        {
          "output_type": "stream",
          "text": [
            "blindset file found in:  /content/drive/My Drive/MLHW1/blindtest.json\n",
            "blind test shape =  (757, 3)\n",
            "transformed feature vector's shape =  (757, 10000)\n",
            "prediction model used: logreg\n",
            "prediction of blindset's functions semantic can be found in: /content/drive/My Drive/MLHW1/predictions.json\n",
            "done!\n",
            "time: 391 ms\n"
          ],
          "name": "stdout"
        }
      ]
    }
  ]
}